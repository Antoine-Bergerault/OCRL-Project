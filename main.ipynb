{
 "cells": [
  {
   "cell_type": "code",
   "execution_count": 22,
   "id": "59705ae6",
   "metadata": {},
   "outputs": [],
   "source": [
    "import bicycle_model\n",
    "import torch"
   ]
  },
  {
   "cell_type": "code",
   "execution_count": 23,
   "id": "66c5ada6",
   "metadata": {},
   "outputs": [],
   "source": [
    "params = bicycle_model.Params(max_steering_angle=2, min_steering_angle=-2, dt=3)\n",
    "\n",
    "# Simulate dynamics\n",
    "# for ...\n",
    "#    new_state = bicycle_model.discrete_dynamics(..., params)"
   ]
  }
 ],
 "metadata": {
  "kernelspec": {
   "display_name": "Python 3 (ipykernel)",
   "language": "python",
   "name": "python3"
  },
  "language_info": {
   "codemirror_mode": {
    "name": "ipython",
    "version": 3
   },
   "file_extension": ".py",
   "mimetype": "text/x-python",
   "name": "python",
   "nbconvert_exporter": "python",
   "pygments_lexer": "ipython3",
   "version": "3.11.0"
  }
 },
 "nbformat": 4,
 "nbformat_minor": 5
}
